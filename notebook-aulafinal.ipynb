{
 "cells": [
  {
   "cell_type": "markdown",
   "metadata": {},
   "source": [
    "# Como compartilhar seus notebooks?\n",
    "\n",
    "Git e GitHub: com essa parceria você pode compartilhar com o mundo os seus notebooks.\n",
    "\n",
    "**Passo 1:** <s>Criar uma conta</s>\n",
    "\n",
    "**Passo 2:** <s>Criar um repositório</s>\n",
    "\n",
    "**Passo 3:** <s>Instalar o Git</s>\n",
    "\n",
    "**Passo 4:** Sincronizar o local com o remoto\n",
    "\n",
    "**Passo 5:** Subir o seu projeto"
   ]
  },
  {
   "cell_type": "markdown",
   "metadata": {},
   "source": [
    "# Comandos Básicos do Git\n",
    "\n",
    "1. <b>git nit</b>: inicializa o git\n",
    "2. <b>git status</b>: o que esta acontecendo?\n",
    "3. <b>git add . </b>:  adiciona arquivos\n",
    "4. <b>git commit -m \"nome da salvação\"</b>: salvar como"
   ]
  }
 ],
 "metadata": {
  "language_info": {
   "name": "python"
  }
 },
 "nbformat": 4,
 "nbformat_minor": 2
}
